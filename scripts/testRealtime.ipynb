{
 "cells": [
  {
   "cell_type": "code",
   "execution_count": 18,
   "id": "ab3c4935",
   "metadata": {},
   "outputs": [],
   "source": [
    "import cv2\n",
    "import numpy as np\n",
    "import os\n",
    "import collections\n",
    "import mediapipe as mp\n",
    "import tensorflow as tf\n",
    "from PIL import ImageFont, ImageDraw, Image"
   ]
  },
  {
   "cell_type": "code",
   "execution_count": 19,
   "id": "c2d99534",
   "metadata": {},
   "outputs": [],
   "source": [
    "data_path = '../dataset_try'\n",
    "model_path = './model_tf3.keras'\n",
    "gesture_labels = sorted(os.listdir(data_path))\n",
    "sequence_length = 30\n",
    "zero_landmark = [0.0]*21"
   ]
  },
  {
   "cell_type": "code",
   "execution_count": 20,
   "id": "fdf1b7e7",
   "metadata": {},
   "outputs": [
    {
     "name": "stdout",
     "output_type": "stream",
     "text": [
      "Loaded model from ./model_tf3.keras\n"
     ]
    }
   ],
   "source": [
    "model = tf.keras.models.load_model(model_path)\n",
    "print(f'Loaded model from {model_path}')"
   ]
  },
  {
   "cell_type": "code",
   "execution_count": 21,
   "id": "8ab99831",
   "metadata": {},
   "outputs": [],
   "source": [
    "mean = np.load('mean.npy')   # shape (42,)\n",
    "std  = np.load('std.npy')    # shape (42,)\n",
    "# Đảm bảo mean, std đang có dạng 1-chiều length=42\n",
    "mean = mean.reshape(-1)      # (42,)\n",
    "std  = std.reshape(-1)       # (42,)\n",
    "\n",
    "# Tính ZERO_NORMALIZED: nếu không detect thấy tay, ta fill vector (0 − mean)/std\n",
    "ZERO_NORMALIZED = (np.zeros(42) - mean) / std  # array shape (42,)\n"
   ]
  },
  {
   "cell_type": "code",
   "execution_count": 22,
   "id": "83ef5f8e",
   "metadata": {},
   "outputs": [],
   "source": [
    "# mp_hands = mp.solutions.hands\n",
    "# hands = mp_hands.Hands(\n",
    "#     # static_image_mode=False,\n",
    "#     model_complexity=0,\n",
    "#     max_num_hands=1,\n",
    "#     min_detection_confidence=0.5,\n",
    "#     min_tracking_confidence=0.5\n",
    "# )\n",
    "# mp_drawing = mp.solutions.drawing_utils"
   ]
  },
  {
   "cell_type": "code",
   "execution_count": 23,
   "id": "17822515",
   "metadata": {},
   "outputs": [
    {
     "name": "stdout",
     "output_type": "stream",
     "text": [
      "Đang chạy nhận diện thủ ngữ thời gian thực. Nhấn 'q' để thoát.\n"
     ]
    }
   ],
   "source": [
    "mp_hands = mp.solutions.hands\n",
    "hands = mp_hands.Hands(\n",
    "    # static_image_mode=False,\n",
    "    model_complexity=0,\n",
    "    max_num_hands=1,\n",
    "    min_detection_confidence=0.5,\n",
    "    min_tracking_confidence=0.5\n",
    ")\n",
    "mp_drawing = mp.solutions.drawing_utils\n",
    "sequence_buffer = collections.deque(maxlen=sequence_length)\n",
    "cap = cv2.VideoCapture(0)\n",
    "if not cap.isOpened():\n",
    "    raise RuntimeError(\"Không mở được webcam. Hãy kiểm tra lại.\")\n",
    "\n",
    "print(\"Đang chạy nhận diện thủ ngữ thời gian thực. Nhấn 'q' để thoát.\")\n",
    "\n",
    "while True:\n",
    "    ret, frame = cap.read()\n",
    "    if not ret:\n",
    "        break\n",
    "\n",
    "    # Lật ngang để giống gương (tuỳ chọn)\n",
    "    frame = cv2.flip(frame, 1)\n",
    "    image_rgb = cv2.cvtColor(frame, cv2.COLOR_BGR2RGB)\n",
    "\n",
    "    # MediaPipe xử lý\n",
    "    results = hands.process(image_rgb)\n",
    "\n",
    "    if results.multi_hand_landmarks:\n",
    "        hand_landmarks = results.multi_hand_landmarks[0]\n",
    "\n",
    "        # Vẽ landmarks lên frame (tuỳ chọn)\n",
    "        mp_drawing.draw_landmarks(\n",
    "            frame, hand_landmarks, mp_hands.HAND_CONNECTIONS,\n",
    "            mp_drawing.DrawingSpec(color=(0,255,0), thickness=2, circle_radius=2),\n",
    "            mp_drawing.DrawingSpec(color=(0,0,255), thickness=2)\n",
    "        )\n",
    "\n",
    "        # Trích 21 điểm (x, y), normalized [0,1]\n",
    "        landmark_row = []\n",
    "        for lm in hand_landmarks.landmark:\n",
    "            landmark_row.append(lm.x)\n",
    "            landmark_row.append(lm.y)\n",
    "        # Chuyển thành mảng (42,)\n",
    "        landmark_row = np.array(landmark_row).reshape(-1)  # (42,)\n",
    "\n",
    "        # Áp dụng normalization: (x − mean) / std\n",
    "        landmark_row = (landmark_row - mean) / std         # (42,)\n",
    "        sequence_buffer.append(landmark_row)\n",
    "\n",
    "    else:\n",
    "        # Không phát hiện tay, append giá trị đã normalize của zero keypoints\n",
    "        sequence_buffer.append(ZERO_NORMALIZED)\n",
    "\n",
    "    # Khi buffer đạt đủ sequence_length, ta chạy dự đoán\n",
    "    if len(sequence_buffer) == sequence_length:\n",
    "        # Chuyển deque thành numpy array shape (sequence_length, 42)\n",
    "        seq_array = np.array(sequence_buffer)           # (30, 42)\n",
    "        # Thêm batch dimension: (1, 30, 42)\n",
    "        input_data = np.expand_dims(seq_array, axis=0)  # (1, 30, 42)\n",
    "\n",
    "        # Dự đoán\n",
    "        preds = model.predict(input_data, verbose=0)    # (1, num_classes)\n",
    "        class_id = np.argmax(preds[0])\n",
    "        class_name = gesture_labels[class_id]\n",
    "        confidence = preds[0][class_id]\n",
    "\n",
    "        # Hiển thị kết quả lên frame\n",
    "        # text = f'{class_name} ({confidence*100:.1f}%)'\n",
    "        # cv2.putText(frame, text,\n",
    "        #             org=(10, 40),\n",
    "        #             fontFace=cv2.FONT_HERSHEY_SIMPLEX,\n",
    "        #             fontScale=1.2,\n",
    "        #             color=(255, 0, 0),\n",
    "        #             thickness=2)\n",
    "        text = f'{class_name} ({confidence*100:.1f}%)'\n",
    "        frame_rgb = cv2.cvtColor(frame, cv2.COLOR_BGR2RGB)\n",
    "        pil_img = Image.fromarray(frame_rgb)\n",
    "        draw = ImageDraw.Draw(pil_img)\n",
    "        # Đường dẫn tới font hỗ trợ tiếng Việt, ví dụ Arial Unicode hoặc Roboto\n",
    "        font = ImageFont.truetype(\"arial.ttf\", 36)  # Đảm bảo file font này tồn tại\n",
    "\n",
    "        draw.text((10, 40), text, font=font, fill=(0, 255, 0))\n",
    "\n",
    "        # Chuyển lại sang BGR cho OpenCV hiển thị\n",
    "        frame = cv2.cvtColor(np.array(pil_img), cv2.COLOR_RGB2BGR)\n",
    "\n",
    "    # Hiển thị frame\n",
    "    cv2.imshow('Real-Time Sign Recognition', frame)\n",
    "\n",
    "    # Nhấn 'q' để thoát\n",
    "    if cv2.waitKey(1) & 0xFF == ord('q'):\n",
    "        break\n",
    "\n",
    "# -----------------------------------------------\n",
    "# 6. Dọn dẹp\n",
    "# -----------------------------------------------\n",
    "cap.release()\n",
    "cv2.destroyAllWindows()\n",
    "hands.close()"
   ]
  },
  {
   "cell_type": "code",
   "execution_count": null,
   "id": "f01e6084",
   "metadata": {},
   "outputs": [],
   "source": []
  }
 ],
 "metadata": {
  "kernelspec": {
   "display_name": "base",
   "language": "python",
   "name": "python3"
  },
  "language_info": {
   "codemirror_mode": {
    "name": "ipython",
    "version": 3
   },
   "file_extension": ".py",
   "mimetype": "text/x-python",
   "name": "python",
   "nbconvert_exporter": "python",
   "pygments_lexer": "ipython3",
   "version": "3.11.7"
  }
 },
 "nbformat": 4,
 "nbformat_minor": 5
}
