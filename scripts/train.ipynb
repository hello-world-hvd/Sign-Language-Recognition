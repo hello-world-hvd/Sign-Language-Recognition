{
 "cells": [
  {
   "cell_type": "code",
   "execution_count": 38,
   "id": "30269764",
   "metadata": {},
   "outputs": [],
   "source": [
    "import os\n",
    "import numpy as np\n",
    "from sklearn.model_selection import train_test_split"
   ]
  },
  {
   "cell_type": "code",
   "execution_count": 43,
   "id": "58af819d",
   "metadata": {},
   "outputs": [],
   "source": [
    "sequence_length = 60"
   ]
  },
  {
   "cell_type": "code",
   "execution_count": 44,
   "id": "df8d0165",
   "metadata": {},
   "outputs": [],
   "source": [
    "dataset_path = '../dataset_try'\n",
    "gesture_labels = sorted(os.listdir(dataset_path))"
   ]
  },
  {
   "cell_type": "code",
   "execution_count": 45,
   "id": "f721dbd4",
   "metadata": {},
   "outputs": [
    {
     "name": "stdout",
     "output_type": "stream",
     "text": [
      "Total sequences: (930, 60, 42) (930,)\n",
      "Gesture labels: ['a', 'b', 'c', 'd', 'delete', 'e', 'g', 'h', 'i', 'k', 'l', 'm', 'n', 'o', 'p', 'q', 'r', 's', 'space', 't', 'u', 'v', 'x', 'y', 'â', 'ê', 'ô', 'ă', 'đ', 'ơ', 'ư']\n"
     ]
    }
   ],
   "source": [
    "X = []\n",
    "y = []\n",
    "for idx, label in enumerate(gesture_labels):\n",
    "    folder_path = os.path.join(dataset_path, label)\n",
    "    if not os.path.isdir(folder_path):\n",
    "        continue\n",
    "    \n",
    "    for file_name in os.listdir(folder_path):\n",
    "        if not file_name.endswith('.npy'):\n",
    "            continue\n",
    "        file_path = os.path.join(folder_path, file_name)\n",
    "        seq_keypoints = np.load(file_path)\n",
    "        if seq_keypoints.shape[0] != sequence_length or seq_keypoints.shape[1] != 42:\n",
    "            continue\n",
    "        \n",
    "        X.append(seq_keypoints)\n",
    "        y.append(idx)\n",
    "\n",
    "X = np.array(X)\n",
    "y = np.array(y)\n",
    "\n",
    "print(\"Total sequences:\", X.shape, y.shape)\n",
    "print(\"Gesture labels:\", gesture_labels)"
   ]
  },
  {
   "cell_type": "markdown",
   "id": "93e3f652",
   "metadata": {},
   "source": [
    "Augmentation"
   ]
  },
  {
   "cell_type": "code",
   "execution_count": 46,
   "id": "ea530d49",
   "metadata": {},
   "outputs": [],
   "source": [
    "def add_jitter(keypoints, sigma=0.01):\n",
    "    \"\"\"Thêm nhiễu Gaussian nhẹ vào toàn bộ keypoints\"\"\"\n",
    "    noise = np.random.normal(0, sigma, keypoints.shape)\n",
    "    return keypoints + noise"
   ]
  },
  {
   "cell_type": "code",
   "execution_count": 47,
   "id": "748834f4",
   "metadata": {},
   "outputs": [],
   "source": [
    "def scale_keypoints(keypoints, scale_range=(0.9, 1.1)):\n",
    "    \"\"\"Phóng to hoặc thu nhỏ toàn bộ khung keypoints\"\"\"\n",
    "    scale = np.random.uniform(*scale_range)\n",
    "    return keypoints * scale"
   ]
  },
  {
   "cell_type": "code",
   "execution_count": 48,
   "id": "ee472c5c",
   "metadata": {},
   "outputs": [],
   "source": [
    "def translate_keypoints(keypoints, max_shift=0.05):\n",
    "    \"\"\"Dịch chuyển tay trong không gian normalized\"\"\"\n",
    "    shift_x = np.random.uniform(-max_shift, max_shift)\n",
    "    shift_y = np.random.uniform(-max_shift, max_shift)\n",
    "    keypoints = keypoints.reshape(-1, 2)\n",
    "    keypoints += np.array([shift_x, shift_y])\n",
    "    return keypoints.flatten()"
   ]
  },
  {
   "cell_type": "code",
   "execution_count": 49,
   "id": "f2f21d45",
   "metadata": {},
   "outputs": [],
   "source": [
    "def rotate_keypoints(keypoints, max_angle=15):\n",
    "    \"\"\"Xoay toàn bộ keypoints quanh trọng tâm\"\"\"\n",
    "    keypoints = keypoints.reshape(-1, 2)\n",
    "    center = np.mean(keypoints, axis=0)\n",
    "    angle = np.radians(np.random.uniform(-max_angle, max_angle))\n",
    "    rot_matrix = np.array([[np.cos(angle), -np.sin(angle)],\n",
    "                           [np.sin(angle),  np.cos(angle)]])\n",
    "    rotated = np.dot(keypoints - center, rot_matrix) + center\n",
    "    return rotated.flatten()"
   ]
  },
  {
   "cell_type": "code",
   "execution_count": 50,
   "id": "c64bf80e",
   "metadata": {},
   "outputs": [],
   "source": [
    "def augment_sequence(sequence):\n",
    "    \"\"\"\n",
    "    Input: sequence (shape = (30, 42)) - 30 frames, mỗi frame 42 toạ độ\n",
    "    Output: augmented sequence (shape = (30, 42))\n",
    "    \"\"\"\n",
    "    seq = sequence.copy()\n",
    "    # Áp dụng augmentation cho từng frame\n",
    "    for i in range(seq.shape[0]):\n",
    "        frame = seq[i]\n",
    "        if np.random.rand() < 0.5:\n",
    "            frame = add_jitter(frame)\n",
    "        if np.random.rand() < 0.5:\n",
    "            frame = scale_keypoints(frame)\n",
    "        if np.random.rand() < 0.5:\n",
    "            frame = translate_keypoints(frame)\n",
    "        if np.random.rand() < 0.5:\n",
    "            frame = rotate_keypoints(frame)\n",
    "        seq[i] = frame\n",
    "    return seq"
   ]
  },
  {
   "cell_type": "code",
   "execution_count": 51,
   "id": "f08aa7b7",
   "metadata": {},
   "outputs": [
    {
     "name": "stdout",
     "output_type": "stream",
     "text": [
      "Sau augmentation: (1860, 60, 42) (1860,)\n"
     ]
    }
   ],
   "source": [
    "# Augmentation cho toàn bộ tập dữ liệu\n",
    "aug_X = []\n",
    "aug_y = []\n",
    "for i in range(len(X)):\n",
    "    aug_X.append(X[i])         # dữ liệu gốc\n",
    "    aug_y.append(y[i])\n",
    "    # Thêm 1 bản augment cho mỗi sequence (có thể tăng số lượng nếu muốn)\n",
    "    aug_X.append(augment_sequence(X[i]))\n",
    "    aug_y.append(y[i])\n",
    "\n",
    "X = np.array(aug_X)\n",
    "y = np.array(aug_y)\n",
    "\n",
    "print(\"Sau augmentation:\", X.shape, y.shape)"
   ]
  },
  {
   "cell_type": "markdown",
   "id": "5b5abe88",
   "metadata": {},
   "source": [
    "Normalize"
   ]
  },
  {
   "cell_type": "code",
   "execution_count": 52,
   "id": "dea0cea3",
   "metadata": {},
   "outputs": [],
   "source": [
    "# Ví dụ tính mean và std của toàn bộ X:\n",
    "X_flat = X.reshape(-1, 42)          # shape (n_samples * SEQUENCE_LENGTH, 42)\n",
    "mean = np.mean(X_flat, axis=0, keepdims=True)\n",
    "std  = np.std(X_flat, axis=0, keepdims=True) + 1e-6\n",
    "\n",
    "# Áp dụng normalize: (X - mean) / std\n",
    "X = (X.reshape(-1, 42) - mean) / std\n",
    "X = X.reshape(-1, sequence_length, 42)"
   ]
  },
  {
   "cell_type": "markdown",
   "id": "8dd988a1",
   "metadata": {},
   "source": [
    "Chia dữ liệu thành train, validation và test"
   ]
  },
  {
   "cell_type": "code",
   "execution_count": 53,
   "id": "83fed206",
   "metadata": {},
   "outputs": [],
   "source": [
    "# Bước 1: chia ra train+val (85%) và test (15%)\n",
    "X_trainval, X_test, y_trainval, y_test = train_test_split(\n",
    "    X, y, test_size=0.15, random_state=42, stratify=y)"
   ]
  },
  {
   "cell_type": "code",
   "execution_count": 54,
   "id": "26eed364",
   "metadata": {},
   "outputs": [
    {
     "name": "stdout",
     "output_type": "stream",
     "text": [
      "Train: (1302, 60, 42) (1302,)\n",
      "Validation: (279, 60, 42) (279,)\n",
      "Test: (279, 60, 42) (279,)\n"
     ]
    }
   ],
   "source": [
    "# Bước 2: từ X_trainval lại chia ra train (80% của 85% ≈ 68%) và val (20% của 85% ≈ 17%).\n",
    "X_train, X_val, y_train, y_val = train_test_split(\n",
    "    X_trainval, y_trainval, test_size=0.15/0.85,  # ≈0.176, để val ~15% tổng\n",
    "    random_state=42, stratify=y_trainval)\n",
    "\n",
    "print(\"Train:\", X_train.shape, y_train.shape)\n",
    "print(\"Validation:\", X_val.shape, y_val.shape)\n",
    "print(\"Test:\", X_test.shape, y_test.shape)"
   ]
  },
  {
   "cell_type": "markdown",
   "id": "9ce055a7",
   "metadata": {},
   "source": [
    "Mã hóa nhãn"
   ]
  },
  {
   "cell_type": "code",
   "execution_count": 55,
   "id": "9cc6c7d1",
   "metadata": {},
   "outputs": [],
   "source": [
    "import tensorflow as tf\n",
    "\n",
    "# Ví dụ với TensorFlow/Keras\n",
    "num_classes = len(gesture_labels)  # giả sử = 8 (trong ví dụ)\n",
    "y_train_onehot = tf.keras.utils.to_categorical(y_train, num_classes)\n",
    "y_val_onehot   = tf.keras.utils.to_categorical(y_val,   num_classes)\n",
    "y_test_onehot  = tf.keras.utils.to_categorical(y_test,  num_classes)"
   ]
  },
  {
   "cell_type": "markdown",
   "id": "d483d837",
   "metadata": {},
   "source": [
    "Xây dựng mô hình"
   ]
  },
  {
   "cell_type": "code",
   "execution_count": 56,
   "id": "ca0b09ae",
   "metadata": {},
   "outputs": [],
   "source": [
    "import tensorflow as tf\n",
    "from tensorflow.keras import layers, models, callbacks\n",
    "\n",
    "num_classes = len(gesture_labels)    # ví dụ = 8\n",
    "SEQUENCE_LENGTH = X_train.shape[1]   # ví dụ = 30\n",
    "NUM_KEYPOINTS = X_train.shape[2]     # ví dụ = 42"
   ]
  },
  {
   "cell_type": "code",
   "execution_count": 22,
   "id": "6c1cbc7b",
   "metadata": {},
   "outputs": [],
   "source": [
    "# model = models.Sequential([\n",
    "#     layers.Input(shape=(SEQUENCE_LENGTH, NUM_KEYPOINTS)),\n",
    "\n",
    "#     # 1 lớp LSTM 128 units\n",
    "#     layers.LSTM(128, return_sequences=False, name='lstm_1'),\n",
    "#     layers.Dropout(0.3),\n",
    "\n",
    "#     # 1–2 lớp Dense để phân loại\n",
    "#     layers.Dense(64, activation='relu', name='dense_1'),\n",
    "#     layers.Dropout(0.3),\n",
    "\n",
    "#     # Output\n",
    "#     layers.Dense(num_classes, activation='softmax', name='output')\n",
    "# ])\n",
    "\n",
    "# model.compile(\n",
    "#     optimizer='adam',\n",
    "#     loss='sparse_categorical_crossentropy',  # nếu y_train vẫn là integer\n",
    "#     metrics=['accuracy']\n",
    "# )\n",
    "\n",
    "# model.summary()"
   ]
  },
  {
   "cell_type": "code",
   "execution_count": 57,
   "id": "84f21e18",
   "metadata": {},
   "outputs": [
    {
     "name": "stderr",
     "output_type": "stream",
     "text": [
      "c:\\Users\\PV\\anaconda3\\Lib\\site-packages\\keras\\src\\layers\\rnn\\rnn.py:200: UserWarning: Do not pass an `input_shape`/`input_dim` argument to a layer. When using Sequential models, prefer using an `Input(shape)` object as the first layer in the model instead.\n",
      "  super().__init__(**kwargs)\n"
     ]
    },
    {
     "data": {
      "text/html": [
       "<pre style=\"white-space:pre;overflow-x:auto;line-height:normal;font-family:Menlo,'DejaVu Sans Mono',consolas,'Courier New',monospace\"><span style=\"font-weight: bold\">Model: \"sequential_2\"</span>\n",
       "</pre>\n"
      ],
      "text/plain": [
       "\u001b[1mModel: \"sequential_2\"\u001b[0m\n"
      ]
     },
     "metadata": {},
     "output_type": "display_data"
    },
    {
     "data": {
      "text/html": [
       "<pre style=\"white-space:pre;overflow-x:auto;line-height:normal;font-family:Menlo,'DejaVu Sans Mono',consolas,'Courier New',monospace\">┏━━━━━━━━━━━━━━━━━━━━━━━━━━━━━━━━━┳━━━━━━━━━━━━━━━━━━━━━━━━┳━━━━━━━━━━━━━━━┓\n",
       "┃<span style=\"font-weight: bold\"> Layer (type)                    </span>┃<span style=\"font-weight: bold\"> Output Shape           </span>┃<span style=\"font-weight: bold\">       Param # </span>┃\n",
       "┡━━━━━━━━━━━━━━━━━━━━━━━━━━━━━━━━━╇━━━━━━━━━━━━━━━━━━━━━━━━╇━━━━━━━━━━━━━━━┩\n",
       "│ lstm_1 (<span style=\"color: #0087ff; text-decoration-color: #0087ff\">LSTM</span>)                   │ (<span style=\"color: #00d7ff; text-decoration-color: #00d7ff\">None</span>, <span style=\"color: #00af00; text-decoration-color: #00af00\">60</span>, <span style=\"color: #00af00; text-decoration-color: #00af00\">128</span>)        │        <span style=\"color: #00af00; text-decoration-color: #00af00\">87,552</span> │\n",
       "├─────────────────────────────────┼────────────────────────┼───────────────┤\n",
       "│ dropout_6 (<span style=\"color: #0087ff; text-decoration-color: #0087ff\">Dropout</span>)             │ (<span style=\"color: #00d7ff; text-decoration-color: #00d7ff\">None</span>, <span style=\"color: #00af00; text-decoration-color: #00af00\">60</span>, <span style=\"color: #00af00; text-decoration-color: #00af00\">128</span>)        │             <span style=\"color: #00af00; text-decoration-color: #00af00\">0</span> │\n",
       "├─────────────────────────────────┼────────────────────────┼───────────────┤\n",
       "│ lstm_2 (<span style=\"color: #0087ff; text-decoration-color: #0087ff\">LSTM</span>)                   │ (<span style=\"color: #00d7ff; text-decoration-color: #00d7ff\">None</span>, <span style=\"color: #00af00; text-decoration-color: #00af00\">64</span>)             │        <span style=\"color: #00af00; text-decoration-color: #00af00\">49,408</span> │\n",
       "├─────────────────────────────────┼────────────────────────┼───────────────┤\n",
       "│ dropout_7 (<span style=\"color: #0087ff; text-decoration-color: #0087ff\">Dropout</span>)             │ (<span style=\"color: #00d7ff; text-decoration-color: #00d7ff\">None</span>, <span style=\"color: #00af00; text-decoration-color: #00af00\">64</span>)             │             <span style=\"color: #00af00; text-decoration-color: #00af00\">0</span> │\n",
       "├─────────────────────────────────┼────────────────────────┼───────────────┤\n",
       "│ dense_1 (<span style=\"color: #0087ff; text-decoration-color: #0087ff\">Dense</span>)                 │ (<span style=\"color: #00d7ff; text-decoration-color: #00d7ff\">None</span>, <span style=\"color: #00af00; text-decoration-color: #00af00\">64</span>)             │         <span style=\"color: #00af00; text-decoration-color: #00af00\">4,160</span> │\n",
       "├─────────────────────────────────┼────────────────────────┼───────────────┤\n",
       "│ dropout_8 (<span style=\"color: #0087ff; text-decoration-color: #0087ff\">Dropout</span>)             │ (<span style=\"color: #00d7ff; text-decoration-color: #00d7ff\">None</span>, <span style=\"color: #00af00; text-decoration-color: #00af00\">64</span>)             │             <span style=\"color: #00af00; text-decoration-color: #00af00\">0</span> │\n",
       "├─────────────────────────────────┼────────────────────────┼───────────────┤\n",
       "│ output (<span style=\"color: #0087ff; text-decoration-color: #0087ff\">Dense</span>)                  │ (<span style=\"color: #00d7ff; text-decoration-color: #00d7ff\">None</span>, <span style=\"color: #00af00; text-decoration-color: #00af00\">31</span>)             │         <span style=\"color: #00af00; text-decoration-color: #00af00\">2,015</span> │\n",
       "└─────────────────────────────────┴────────────────────────┴───────────────┘\n",
       "</pre>\n"
      ],
      "text/plain": [
       "┏━━━━━━━━━━━━━━━━━━━━━━━━━━━━━━━━━┳━━━━━━━━━━━━━━━━━━━━━━━━┳━━━━━━━━━━━━━━━┓\n",
       "┃\u001b[1m \u001b[0m\u001b[1mLayer (type)                   \u001b[0m\u001b[1m \u001b[0m┃\u001b[1m \u001b[0m\u001b[1mOutput Shape          \u001b[0m\u001b[1m \u001b[0m┃\u001b[1m \u001b[0m\u001b[1m      Param #\u001b[0m\u001b[1m \u001b[0m┃\n",
       "┡━━━━━━━━━━━━━━━━━━━━━━━━━━━━━━━━━╇━━━━━━━━━━━━━━━━━━━━━━━━╇━━━━━━━━━━━━━━━┩\n",
       "│ lstm_1 (\u001b[38;5;33mLSTM\u001b[0m)                   │ (\u001b[38;5;45mNone\u001b[0m, \u001b[38;5;34m60\u001b[0m, \u001b[38;5;34m128\u001b[0m)        │        \u001b[38;5;34m87,552\u001b[0m │\n",
       "├─────────────────────────────────┼────────────────────────┼───────────────┤\n",
       "│ dropout_6 (\u001b[38;5;33mDropout\u001b[0m)             │ (\u001b[38;5;45mNone\u001b[0m, \u001b[38;5;34m60\u001b[0m, \u001b[38;5;34m128\u001b[0m)        │             \u001b[38;5;34m0\u001b[0m │\n",
       "├─────────────────────────────────┼────────────────────────┼───────────────┤\n",
       "│ lstm_2 (\u001b[38;5;33mLSTM\u001b[0m)                   │ (\u001b[38;5;45mNone\u001b[0m, \u001b[38;5;34m64\u001b[0m)             │        \u001b[38;5;34m49,408\u001b[0m │\n",
       "├─────────────────────────────────┼────────────────────────┼───────────────┤\n",
       "│ dropout_7 (\u001b[38;5;33mDropout\u001b[0m)             │ (\u001b[38;5;45mNone\u001b[0m, \u001b[38;5;34m64\u001b[0m)             │             \u001b[38;5;34m0\u001b[0m │\n",
       "├─────────────────────────────────┼────────────────────────┼───────────────┤\n",
       "│ dense_1 (\u001b[38;5;33mDense\u001b[0m)                 │ (\u001b[38;5;45mNone\u001b[0m, \u001b[38;5;34m64\u001b[0m)             │         \u001b[38;5;34m4,160\u001b[0m │\n",
       "├─────────────────────────────────┼────────────────────────┼───────────────┤\n",
       "│ dropout_8 (\u001b[38;5;33mDropout\u001b[0m)             │ (\u001b[38;5;45mNone\u001b[0m, \u001b[38;5;34m64\u001b[0m)             │             \u001b[38;5;34m0\u001b[0m │\n",
       "├─────────────────────────────────┼────────────────────────┼───────────────┤\n",
       "│ output (\u001b[38;5;33mDense\u001b[0m)                  │ (\u001b[38;5;45mNone\u001b[0m, \u001b[38;5;34m31\u001b[0m)             │         \u001b[38;5;34m2,015\u001b[0m │\n",
       "└─────────────────────────────────┴────────────────────────┴───────────────┘\n"
      ]
     },
     "metadata": {},
     "output_type": "display_data"
    },
    {
     "data": {
      "text/html": [
       "<pre style=\"white-space:pre;overflow-x:auto;line-height:normal;font-family:Menlo,'DejaVu Sans Mono',consolas,'Courier New',monospace\"><span style=\"font-weight: bold\"> Total params: </span><span style=\"color: #00af00; text-decoration-color: #00af00\">143,135</span> (559.12 KB)\n",
       "</pre>\n"
      ],
      "text/plain": [
       "\u001b[1m Total params: \u001b[0m\u001b[38;5;34m143,135\u001b[0m (559.12 KB)\n"
      ]
     },
     "metadata": {},
     "output_type": "display_data"
    },
    {
     "data": {
      "text/html": [
       "<pre style=\"white-space:pre;overflow-x:auto;line-height:normal;font-family:Menlo,'DejaVu Sans Mono',consolas,'Courier New',monospace\"><span style=\"font-weight: bold\"> Trainable params: </span><span style=\"color: #00af00; text-decoration-color: #00af00\">143,135</span> (559.12 KB)\n",
       "</pre>\n"
      ],
      "text/plain": [
       "\u001b[1m Trainable params: \u001b[0m\u001b[38;5;34m143,135\u001b[0m (559.12 KB)\n"
      ]
     },
     "metadata": {},
     "output_type": "display_data"
    },
    {
     "data": {
      "text/html": [
       "<pre style=\"white-space:pre;overflow-x:auto;line-height:normal;font-family:Menlo,'DejaVu Sans Mono',consolas,'Courier New',monospace\"><span style=\"font-weight: bold\"> Non-trainable params: </span><span style=\"color: #00af00; text-decoration-color: #00af00\">0</span> (0.00 B)\n",
       "</pre>\n"
      ],
      "text/plain": [
       "\u001b[1m Non-trainable params: \u001b[0m\u001b[38;5;34m0\u001b[0m (0.00 B)\n"
      ]
     },
     "metadata": {},
     "output_type": "display_data"
    }
   ],
   "source": [
    "def build_lstm_model(sequence_length, num_keypoints, num_classes):\n",
    "    model = models.Sequential([\n",
    "        # LSTM đầu tiên (trả về toàn bộ sequence để có thể stack LSTM nếu muốn)\n",
    "        layers.LSTM(128, return_sequences=True, \n",
    "                    input_shape=(sequence_length, num_keypoints), \n",
    "                    name='lstm_1'),\n",
    "        layers.Dropout(0.3),\n",
    "\n",
    "        # LSTM thứ hai (chỉ trả về hidden cuối cùng)\n",
    "        layers.LSTM(64, return_sequences=False, name='lstm_2'),\n",
    "        layers.Dropout(0.3),\n",
    "\n",
    "        # Dense 64 units để học thêm đặc trưng\n",
    "        layers.Dense(64, activation='relu', name='dense_1'),\n",
    "        layers.Dropout(0.3),\n",
    "\n",
    "        # Lớp output\n",
    "        layers.Dense(num_classes, activation='softmax', name='output')\n",
    "    ])\n",
    "    return model\n",
    "\n",
    "model = build_lstm_model(SEQUENCE_LENGTH, NUM_KEYPOINTS, num_classes)\n",
    "model.compile(\n",
    "    optimizer=tf.keras.optimizers.Adam(learning_rate=1e-3),\n",
    "    loss='categorical_crossentropy',\n",
    "    metrics=['accuracy']\n",
    ")\n",
    "model.summary()"
   ]
  },
  {
   "cell_type": "code",
   "execution_count": 58,
   "id": "30a95bf1",
   "metadata": {},
   "outputs": [],
   "source": [
    "#  Chuẩn bị các callback\n",
    "# EarlyStopping: dừng training khi validation loss không giảm trong một số epoch nhất định.\n",
    "# ModelCheckpoint: lưu mô hình tốt nhất dựa trên val_loss hoặc val_accuracy.\n",
    "\n",
    "es = callbacks.EarlyStopping(\n",
    "    monitor='val_loss',\n",
    "    patience=10,        # nếu 10 epoch liên tiếp val_loss không giảm thì dừng\n",
    "    restore_best_weights=True,\n",
    "    verbose=1\n",
    ")\n",
    "\n",
    "mc = callbacks.ModelCheckpoint(\n",
    "    'best_lstm_model.keras',  # file lưu mô hình\n",
    "    monitor='val_loss',\n",
    "    save_best_only=True,\n",
    "    verbose=1\n",
    ")\n",
    "\n",
    "reduce_lr = callbacks.ReduceLROnPlateau(\n",
    "    monitor='val_loss', factor=0.5, patience=5, min_lr=1e-6, verbose=1\n",
    ")"
   ]
  },
  {
   "cell_type": "code",
   "execution_count": 28,
   "id": "5508ed6d",
   "metadata": {},
   "outputs": [],
   "source": [
    "# history = model.fit(\n",
    "#     X_train, y_train,\n",
    "#     validation_data=(X_val, y_val),\n",
    "#     batch_size=32,\n",
    "#     epochs=50\n",
    "# )"
   ]
  },
  {
   "cell_type": "code",
   "execution_count": 63,
   "id": "3b94fdb9",
   "metadata": {},
   "outputs": [
    {
     "name": "stdout",
     "output_type": "stream",
     "text": [
      "Epoch 1/50\n",
      "\u001b[1m40/41\u001b[0m \u001b[32m━━━━━━━━━━━━━━━━━━━\u001b[0m\u001b[37m━\u001b[0m \u001b[1m0s\u001b[0m 48ms/step - accuracy: 0.8908 - loss: 0.4845\n",
      "Epoch 1: val_loss improved from inf to 0.23083, saving model to best_lstm_model.keras\n",
      "\u001b[1m41/41\u001b[0m \u001b[32m━━━━━━━━━━━━━━━━━━━━\u001b[0m\u001b[37m\u001b[0m \u001b[1m2s\u001b[0m 58ms/step - accuracy: 0.8907 - loss: 0.4836 - val_accuracy: 0.9211 - val_loss: 0.2308 - learning_rate: 0.0010\n",
      "Epoch 2/50\n",
      "\u001b[1m41/41\u001b[0m \u001b[32m━━━━━━━━━━━━━━━━━━━━\u001b[0m\u001b[37m\u001b[0m \u001b[1m0s\u001b[0m 44ms/step - accuracy: 0.9037 - loss: 0.2477\n",
      "Epoch 2: val_loss improved from 0.23083 to 0.13292, saving model to best_lstm_model.keras\n",
      "\u001b[1m41/41\u001b[0m \u001b[32m━━━━━━━━━━━━━━━━━━━━\u001b[0m\u001b[37m\u001b[0m \u001b[1m2s\u001b[0m 56ms/step - accuracy: 0.9042 - loss: 0.2473 - val_accuracy: 0.9749 - val_loss: 0.1329 - learning_rate: 0.0010\n",
      "Epoch 3/50\n",
      "\u001b[1m40/41\u001b[0m \u001b[32m━━━━━━━━━━━━━━━━━━━\u001b[0m\u001b[37m━\u001b[0m \u001b[1m0s\u001b[0m 43ms/step - accuracy: 0.9664 - loss: 0.1418\n",
      "Epoch 3: val_loss improved from 0.13292 to 0.07623, saving model to best_lstm_model.keras\n",
      "\u001b[1m41/41\u001b[0m \u001b[32m━━━━━━━━━━━━━━━━━━━━\u001b[0m\u001b[37m\u001b[0m \u001b[1m2s\u001b[0m 52ms/step - accuracy: 0.9662 - loss: 0.1419 - val_accuracy: 0.9785 - val_loss: 0.0762 - learning_rate: 0.0010\n",
      "Epoch 4/50\n",
      "\u001b[1m41/41\u001b[0m \u001b[32m━━━━━━━━━━━━━━━━━━━━\u001b[0m\u001b[37m\u001b[0m \u001b[1m0s\u001b[0m 115ms/step - accuracy: 0.9767 - loss: 0.0896\n",
      "Epoch 4: val_loss improved from 0.07623 to 0.03315, saving model to best_lstm_model.keras\n",
      "\u001b[1m41/41\u001b[0m \u001b[32m━━━━━━━━━━━━━━━━━━━━\u001b[0m\u001b[37m\u001b[0m \u001b[1m6s\u001b[0m 135ms/step - accuracy: 0.9767 - loss: 0.0896 - val_accuracy: 0.9928 - val_loss: 0.0332 - learning_rate: 0.0010\n",
      "Epoch 5/50\n",
      "\u001b[1m41/41\u001b[0m \u001b[32m━━━━━━━━━━━━━━━━━━━━\u001b[0m\u001b[37m\u001b[0m \u001b[1m0s\u001b[0m 86ms/step - accuracy: 0.9891 - loss: 0.0467\n",
      "Epoch 5: val_loss did not improve from 0.03315\n",
      "\u001b[1m41/41\u001b[0m \u001b[32m━━━━━━━━━━━━━━━━━━━━\u001b[0m\u001b[37m\u001b[0m \u001b[1m4s\u001b[0m 98ms/step - accuracy: 0.9890 - loss: 0.0471 - val_accuracy: 0.9892 - val_loss: 0.0396 - learning_rate: 0.0010\n",
      "Epoch 6/50\n",
      "\u001b[1m41/41\u001b[0m \u001b[32m━━━━━━━━━━━━━━━━━━━━\u001b[0m\u001b[37m\u001b[0m \u001b[1m0s\u001b[0m 101ms/step - accuracy: 0.9866 - loss: 0.0474\n",
      "Epoch 6: val_loss improved from 0.03315 to 0.01425, saving model to best_lstm_model.keras\n",
      "\u001b[1m41/41\u001b[0m \u001b[32m━━━━━━━━━━━━━━━━━━━━\u001b[0m\u001b[37m\u001b[0m \u001b[1m5s\u001b[0m 121ms/step - accuracy: 0.9866 - loss: 0.0475 - val_accuracy: 0.9964 - val_loss: 0.0143 - learning_rate: 0.0010\n",
      "Epoch 7/50\n",
      "\u001b[1m41/41\u001b[0m \u001b[32m━━━━━━━━━━━━━━━━━━━━\u001b[0m\u001b[37m\u001b[0m \u001b[1m0s\u001b[0m 116ms/step - accuracy: 0.9928 - loss: 0.0491\n",
      "Epoch 7: val_loss did not improve from 0.01425\n",
      "\u001b[1m41/41\u001b[0m \u001b[32m━━━━━━━━━━━━━━━━━━━━\u001b[0m\u001b[37m\u001b[0m \u001b[1m5s\u001b[0m 131ms/step - accuracy: 0.9928 - loss: 0.0489 - val_accuracy: 0.9785 - val_loss: 0.0875 - learning_rate: 0.0010\n",
      "Epoch 8/50\n",
      "\u001b[1m41/41\u001b[0m \u001b[32m━━━━━━━━━━━━━━━━━━━━\u001b[0m\u001b[37m\u001b[0m \u001b[1m0s\u001b[0m 109ms/step - accuracy: 0.9842 - loss: 0.0681\n",
      "Epoch 8: val_loss did not improve from 0.01425\n",
      "\u001b[1m41/41\u001b[0m \u001b[32m━━━━━━━━━━━━━━━━━━━━\u001b[0m\u001b[37m\u001b[0m \u001b[1m5s\u001b[0m 122ms/step - accuracy: 0.9843 - loss: 0.0679 - val_accuracy: 0.9821 - val_loss: 0.0383 - learning_rate: 0.0010\n",
      "Epoch 9/50\n",
      "\u001b[1m41/41\u001b[0m \u001b[32m━━━━━━━━━━━━━━━━━━━━\u001b[0m\u001b[37m\u001b[0m \u001b[1m0s\u001b[0m 115ms/step - accuracy: 0.9945 - loss: 0.0308\n",
      "Epoch 9: val_loss improved from 0.01425 to 0.00662, saving model to best_lstm_model.keras\n",
      "\u001b[1m41/41\u001b[0m \u001b[32m━━━━━━━━━━━━━━━━━━━━\u001b[0m\u001b[37m\u001b[0m \u001b[1m6s\u001b[0m 134ms/step - accuracy: 0.9944 - loss: 0.0309 - val_accuracy: 1.0000 - val_loss: 0.0066 - learning_rate: 0.0010\n",
      "Epoch 10/50\n",
      "\u001b[1m41/41\u001b[0m \u001b[32m━━━━━━━━━━━━━━━━━━━━\u001b[0m\u001b[37m\u001b[0m \u001b[1m0s\u001b[0m 113ms/step - accuracy: 0.9958 - loss: 0.0288\n",
      "Epoch 10: val_loss improved from 0.00662 to 0.00323, saving model to best_lstm_model.keras\n",
      "\u001b[1m41/41\u001b[0m \u001b[32m━━━━━━━━━━━━━━━━━━━━\u001b[0m\u001b[37m\u001b[0m \u001b[1m5s\u001b[0m 132ms/step - accuracy: 0.9958 - loss: 0.0287 - val_accuracy: 1.0000 - val_loss: 0.0032 - learning_rate: 0.0010\n",
      "Epoch 11/50\n",
      "\u001b[1m41/41\u001b[0m \u001b[32m━━━━━━━━━━━━━━━━━━━━\u001b[0m\u001b[37m\u001b[0m \u001b[1m0s\u001b[0m 118ms/step - accuracy: 0.9964 - loss: 0.0186\n",
      "Epoch 11: val_loss improved from 0.00323 to 0.00173, saving model to best_lstm_model.keras\n",
      "\u001b[1m41/41\u001b[0m \u001b[32m━━━━━━━━━━━━━━━━━━━━\u001b[0m\u001b[37m\u001b[0m \u001b[1m6s\u001b[0m 138ms/step - accuracy: 0.9964 - loss: 0.0186 - val_accuracy: 1.0000 - val_loss: 0.0017 - learning_rate: 0.0010\n",
      "Epoch 12/50\n",
      "\u001b[1m41/41\u001b[0m \u001b[32m━━━━━━━━━━━━━━━━━━━━\u001b[0m\u001b[37m\u001b[0m \u001b[1m0s\u001b[0m 114ms/step - accuracy: 0.9987 - loss: 0.0152\n",
      "Epoch 12: val_loss improved from 0.00173 to 0.00152, saving model to best_lstm_model.keras\n",
      "\u001b[1m41/41\u001b[0m \u001b[32m━━━━━━━━━━━━━━━━━━━━\u001b[0m\u001b[37m\u001b[0m \u001b[1m6s\u001b[0m 134ms/step - accuracy: 0.9987 - loss: 0.0151 - val_accuracy: 1.0000 - val_loss: 0.0015 - learning_rate: 0.0010\n",
      "Epoch 13/50\n",
      "\u001b[1m41/41\u001b[0m \u001b[32m━━━━━━━━━━━━━━━━━━━━\u001b[0m\u001b[37m\u001b[0m \u001b[1m0s\u001b[0m 119ms/step - accuracy: 1.0000 - loss: 0.0135\n",
      "Epoch 13: val_loss improved from 0.00152 to 0.00132, saving model to best_lstm_model.keras\n",
      "\u001b[1m41/41\u001b[0m \u001b[32m━━━━━━━━━━━━━━━━━━━━\u001b[0m\u001b[37m\u001b[0m \u001b[1m6s\u001b[0m 140ms/step - accuracy: 1.0000 - loss: 0.0135 - val_accuracy: 1.0000 - val_loss: 0.0013 - learning_rate: 0.0010\n",
      "Epoch 14/50\n",
      "\u001b[1m41/41\u001b[0m \u001b[32m━━━━━━━━━━━━━━━━━━━━\u001b[0m\u001b[37m\u001b[0m \u001b[1m0s\u001b[0m 117ms/step - accuracy: 0.9994 - loss: 0.0133\n",
      "Epoch 14: val_loss did not improve from 0.00132\n",
      "\u001b[1m41/41\u001b[0m \u001b[32m━━━━━━━━━━━━━━━━━━━━\u001b[0m\u001b[37m\u001b[0m \u001b[1m10s\u001b[0m 131ms/step - accuracy: 0.9994 - loss: 0.0133 - val_accuracy: 1.0000 - val_loss: 0.0014 - learning_rate: 0.0010\n",
      "Epoch 15/50\n",
      "\u001b[1m41/41\u001b[0m \u001b[32m━━━━━━━━━━━━━━━━━━━━\u001b[0m\u001b[37m\u001b[0m \u001b[1m0s\u001b[0m 117ms/step - accuracy: 0.9995 - loss: 0.0119\n",
      "Epoch 15: val_loss did not improve from 0.00132\n",
      "\u001b[1m41/41\u001b[0m \u001b[32m━━━━━━━━━━━━━━━━━━━━\u001b[0m\u001b[37m\u001b[0m \u001b[1m6s\u001b[0m 134ms/step - accuracy: 0.9995 - loss: 0.0120 - val_accuracy: 1.0000 - val_loss: 0.0015 - learning_rate: 0.0010\n",
      "Epoch 16/50\n",
      "\u001b[1m41/41\u001b[0m \u001b[32m━━━━━━━━━━━━━━━━━━━━\u001b[0m\u001b[37m\u001b[0m \u001b[1m0s\u001b[0m 105ms/step - accuracy: 0.9999 - loss: 0.0127\n",
      "Epoch 16: val_loss did not improve from 0.00132\n",
      "\u001b[1m41/41\u001b[0m \u001b[32m━━━━━━━━━━━━━━━━━━━━\u001b[0m\u001b[37m\u001b[0m \u001b[1m5s\u001b[0m 121ms/step - accuracy: 0.9999 - loss: 0.0127 - val_accuracy: 1.0000 - val_loss: 0.0014 - learning_rate: 0.0010\n",
      "Epoch 17/50\n",
      "\u001b[1m40/41\u001b[0m \u001b[32m━━━━━━━━━━━━━━━━━━━\u001b[0m\u001b[37m━\u001b[0m \u001b[1m0s\u001b[0m 99ms/step - accuracy: 1.0000 - loss: 0.0088 \n",
      "Epoch 17: val_loss improved from 0.00132 to 0.00074, saving model to best_lstm_model.keras\n",
      "\u001b[1m41/41\u001b[0m \u001b[32m━━━━━━━━━━━━━━━━━━━━\u001b[0m\u001b[37m\u001b[0m \u001b[1m4s\u001b[0m 105ms/step - accuracy: 1.0000 - loss: 0.0089 - val_accuracy: 1.0000 - val_loss: 7.4418e-04 - learning_rate: 0.0010\n",
      "Epoch 18/50\n",
      "\u001b[1m40/41\u001b[0m \u001b[32m━━━━━━━━━━━━━━━━━━━\u001b[0m\u001b[37m━\u001b[0m \u001b[1m0s\u001b[0m 45ms/step - accuracy: 0.9988 - loss: 0.0126\n",
      "Epoch 18: val_loss improved from 0.00074 to 0.00070, saving model to best_lstm_model.keras\n",
      "\u001b[1m41/41\u001b[0m \u001b[32m━━━━━━━━━━━━━━━━━━━━\u001b[0m\u001b[37m\u001b[0m \u001b[1m2s\u001b[0m 54ms/step - accuracy: 0.9988 - loss: 0.0125 - val_accuracy: 1.0000 - val_loss: 7.0375e-04 - learning_rate: 0.0010\n",
      "Epoch 19/50\n",
      "\u001b[1m41/41\u001b[0m \u001b[32m━━━━━━━━━━━━━━━━━━━━\u001b[0m\u001b[37m\u001b[0m \u001b[1m0s\u001b[0m 52ms/step - accuracy: 0.9973 - loss: 0.0147\n",
      "Epoch 19: val_loss did not improve from 0.00070\n",
      "\u001b[1m41/41\u001b[0m \u001b[32m━━━━━━━━━━━━━━━━━━━━\u001b[0m\u001b[37m\u001b[0m \u001b[1m2s\u001b[0m 58ms/step - accuracy: 0.9973 - loss: 0.0147 - val_accuracy: 1.0000 - val_loss: 7.7632e-04 - learning_rate: 0.0010\n",
      "Epoch 20/50\n",
      "\u001b[1m40/41\u001b[0m \u001b[32m━━━━━━━━━━━━━━━━━━━\u001b[0m\u001b[37m━\u001b[0m \u001b[1m0s\u001b[0m 44ms/step - accuracy: 0.9999 - loss: 0.0091\n",
      "Epoch 20: val_loss did not improve from 0.00070\n",
      "\u001b[1m41/41\u001b[0m \u001b[32m━━━━━━━━━━━━━━━━━━━━\u001b[0m\u001b[37m\u001b[0m \u001b[1m2s\u001b[0m 49ms/step - accuracy: 0.9998 - loss: 0.0091 - val_accuracy: 1.0000 - val_loss: 9.1782e-04 - learning_rate: 0.0010\n",
      "Epoch 21/50\n",
      "\u001b[1m40/41\u001b[0m \u001b[32m━━━━━━━━━━━━━━━━━━━\u001b[0m\u001b[37m━\u001b[0m \u001b[1m0s\u001b[0m 43ms/step - accuracy: 0.9992 - loss: 0.0099\n",
      "Epoch 21: val_loss did not improve from 0.00070\n",
      "\u001b[1m41/41\u001b[0m \u001b[32m━━━━━━━━━━━━━━━━━━━━\u001b[0m\u001b[37m\u001b[0m \u001b[1m2s\u001b[0m 48ms/step - accuracy: 0.9992 - loss: 0.0099 - val_accuracy: 1.0000 - val_loss: 7.8578e-04 - learning_rate: 0.0010\n",
      "Epoch 22/50\n",
      "\u001b[1m40/41\u001b[0m \u001b[32m━━━━━━━━━━━━━━━━━━━\u001b[0m\u001b[37m━\u001b[0m \u001b[1m0s\u001b[0m 62ms/step - accuracy: 1.0000 - loss: 0.0071\n",
      "Epoch 22: val_loss did not improve from 0.00070\n",
      "\n",
      "Epoch 22: ReduceLROnPlateau reducing learning rate to 0.0005000000237487257.\n",
      "\u001b[1m41/41\u001b[0m \u001b[32m━━━━━━━━━━━━━━━━━━━━\u001b[0m\u001b[37m\u001b[0m \u001b[1m3s\u001b[0m 70ms/step - accuracy: 1.0000 - loss: 0.0071 - val_accuracy: 1.0000 - val_loss: 8.2020e-04 - learning_rate: 0.0010\n",
      "Epoch 23/50\n",
      "\u001b[1m40/41\u001b[0m \u001b[32m━━━━━━━━━━━━━━━━━━━\u001b[0m\u001b[37m━\u001b[0m \u001b[1m0s\u001b[0m 66ms/step - accuracy: 1.0000 - loss: 0.0088\n",
      "Epoch 23: val_loss did not improve from 0.00070\n",
      "\u001b[1m41/41\u001b[0m \u001b[32m━━━━━━━━━━━━━━━━━━━━\u001b[0m\u001b[37m\u001b[0m \u001b[1m3s\u001b[0m 75ms/step - accuracy: 1.0000 - loss: 0.0087 - val_accuracy: 1.0000 - val_loss: 0.0011 - learning_rate: 5.0000e-04\n",
      "Epoch 24/50\n",
      "\u001b[1m40/41\u001b[0m \u001b[32m━━━━━━━━━━━━━━━━━━━\u001b[0m\u001b[37m━\u001b[0m \u001b[1m0s\u001b[0m 67ms/step - accuracy: 1.0000 - loss: 0.0087\n",
      "Epoch 24: val_loss did not improve from 0.00070\n",
      "\u001b[1m41/41\u001b[0m \u001b[32m━━━━━━━━━━━━━━━━━━━━\u001b[0m\u001b[37m\u001b[0m \u001b[1m3s\u001b[0m 75ms/step - accuracy: 1.0000 - loss: 0.0088 - val_accuracy: 1.0000 - val_loss: 0.0023 - learning_rate: 5.0000e-04\n",
      "Epoch 25/50\n",
      "\u001b[1m41/41\u001b[0m \u001b[32m━━━━━━━━━━━━━━━━━━━━\u001b[0m\u001b[37m\u001b[0m \u001b[1m0s\u001b[0m 64ms/step - accuracy: 1.0000 - loss: 0.0084\n",
      "Epoch 25: val_loss did not improve from 0.00070\n",
      "\u001b[1m41/41\u001b[0m \u001b[32m━━━━━━━━━━━━━━━━━━━━\u001b[0m\u001b[37m\u001b[0m \u001b[1m3s\u001b[0m 72ms/step - accuracy: 1.0000 - loss: 0.0084 - val_accuracy: 1.0000 - val_loss: 8.0009e-04 - learning_rate: 5.0000e-04\n",
      "Epoch 26/50\n",
      "\u001b[1m41/41\u001b[0m \u001b[32m━━━━━━━━━━━━━━━━━━━━\u001b[0m\u001b[37m\u001b[0m \u001b[1m0s\u001b[0m 66ms/step - accuracy: 0.9992 - loss: 0.0086\n",
      "Epoch 26: val_loss improved from 0.00070 to 0.00059, saving model to best_lstm_model.keras\n",
      "\u001b[1m41/41\u001b[0m \u001b[32m━━━━━━━━━━━━━━━━━━━━\u001b[0m\u001b[37m\u001b[0m \u001b[1m3s\u001b[0m 77ms/step - accuracy: 0.9992 - loss: 0.0085 - val_accuracy: 1.0000 - val_loss: 5.8697e-04 - learning_rate: 5.0000e-04\n",
      "Epoch 27/50\n",
      "\u001b[1m41/41\u001b[0m \u001b[32m━━━━━━━━━━━━━━━━━━━━\u001b[0m\u001b[37m\u001b[0m \u001b[1m0s\u001b[0m 67ms/step - accuracy: 1.0000 - loss: 0.0058\n",
      "Epoch 27: val_loss did not improve from 0.00059\n",
      "\u001b[1m41/41\u001b[0m \u001b[32m━━━━━━━━━━━━━━━━━━━━\u001b[0m\u001b[37m\u001b[0m \u001b[1m3s\u001b[0m 75ms/step - accuracy: 1.0000 - loss: 0.0058 - val_accuracy: 1.0000 - val_loss: 6.7774e-04 - learning_rate: 5.0000e-04\n",
      "Epoch 28/50\n",
      "\u001b[1m41/41\u001b[0m \u001b[32m━━━━━━━━━━━━━━━━━━━━\u001b[0m\u001b[37m\u001b[0m \u001b[1m0s\u001b[0m 66ms/step - accuracy: 0.9985 - loss: 0.0101\n",
      "Epoch 28: val_loss did not improve from 0.00059\n",
      "\u001b[1m41/41\u001b[0m \u001b[32m━━━━━━━━━━━━━━━━━━━━\u001b[0m\u001b[37m\u001b[0m \u001b[1m3s\u001b[0m 73ms/step - accuracy: 0.9985 - loss: 0.0101 - val_accuracy: 1.0000 - val_loss: 9.1965e-04 - learning_rate: 5.0000e-04\n",
      "Epoch 29/50\n",
      "\u001b[1m41/41\u001b[0m \u001b[32m━━━━━━━━━━━━━━━━━━━━\u001b[0m\u001b[37m\u001b[0m \u001b[1m0s\u001b[0m 66ms/step - accuracy: 0.9984 - loss: 0.0096\n",
      "Epoch 29: val_loss did not improve from 0.00059\n",
      "\u001b[1m41/41\u001b[0m \u001b[32m━━━━━━━━━━━━━━━━━━━━\u001b[0m\u001b[37m\u001b[0m \u001b[1m3s\u001b[0m 74ms/step - accuracy: 0.9984 - loss: 0.0095 - val_accuracy: 1.0000 - val_loss: 9.5456e-04 - learning_rate: 5.0000e-04\n",
      "Epoch 30/50\n",
      "\u001b[1m41/41\u001b[0m \u001b[32m━━━━━━━━━━━━━━━━━━━━\u001b[0m\u001b[37m\u001b[0m \u001b[1m0s\u001b[0m 67ms/step - accuracy: 0.9997 - loss: 0.0072\n",
      "Epoch 30: val_loss did not improve from 0.00059\n",
      "\u001b[1m41/41\u001b[0m \u001b[32m━━━━━━━━━━━━━━━━━━━━\u001b[0m\u001b[37m\u001b[0m \u001b[1m3s\u001b[0m 76ms/step - accuracy: 0.9997 - loss: 0.0072 - val_accuracy: 1.0000 - val_loss: 0.0011 - learning_rate: 5.0000e-04\n",
      "Epoch 31/50\n",
      "\u001b[1m41/41\u001b[0m \u001b[32m━━━━━━━━━━━━━━━━━━━━\u001b[0m\u001b[37m\u001b[0m \u001b[1m0s\u001b[0m 67ms/step - accuracy: 0.9995 - loss: 0.0098\n",
      "Epoch 31: val_loss did not improve from 0.00059\n",
      "\n",
      "Epoch 31: ReduceLROnPlateau reducing learning rate to 0.0002500000118743628.\n",
      "\u001b[1m41/41\u001b[0m \u001b[32m━━━━━━━━━━━━━━━━━━━━\u001b[0m\u001b[37m\u001b[0m \u001b[1m3s\u001b[0m 75ms/step - accuracy: 0.9995 - loss: 0.0098 - val_accuracy: 1.0000 - val_loss: 0.0013 - learning_rate: 5.0000e-04\n",
      "Epoch 32/50\n",
      "\u001b[1m41/41\u001b[0m \u001b[32m━━━━━━━━━━━━━━━━━━━━\u001b[0m\u001b[37m\u001b[0m \u001b[1m0s\u001b[0m 69ms/step - accuracy: 0.9990 - loss: 0.0080\n",
      "Epoch 32: val_loss did not improve from 0.00059\n",
      "\u001b[1m41/41\u001b[0m \u001b[32m━━━━━━━━━━━━━━━━━━━━\u001b[0m\u001b[37m\u001b[0m \u001b[1m3s\u001b[0m 78ms/step - accuracy: 0.9990 - loss: 0.0080 - val_accuracy: 1.0000 - val_loss: 7.5353e-04 - learning_rate: 2.5000e-04\n",
      "Epoch 33/50\n",
      "\u001b[1m41/41\u001b[0m \u001b[32m━━━━━━━━━━━━━━━━━━━━\u001b[0m\u001b[37m\u001b[0m \u001b[1m0s\u001b[0m 66ms/step - accuracy: 1.0000 - loss: 0.0064\n",
      "Epoch 33: val_loss did not improve from 0.00059\n",
      "\u001b[1m41/41\u001b[0m \u001b[32m━━━━━━━━━━━━━━━━━━━━\u001b[0m\u001b[37m\u001b[0m \u001b[1m3s\u001b[0m 75ms/step - accuracy: 1.0000 - loss: 0.0064 - val_accuracy: 1.0000 - val_loss: 0.0017 - learning_rate: 2.5000e-04\n",
      "Epoch 34/50\n",
      "\u001b[1m41/41\u001b[0m \u001b[32m━━━━━━━━━━━━━━━━━━━━\u001b[0m\u001b[37m\u001b[0m \u001b[1m0s\u001b[0m 71ms/step - accuracy: 1.0000 - loss: 0.0068\n",
      "Epoch 34: val_loss did not improve from 0.00059\n",
      "\u001b[1m41/41\u001b[0m \u001b[32m━━━━━━━━━━━━━━━━━━━━\u001b[0m\u001b[37m\u001b[0m \u001b[1m3s\u001b[0m 81ms/step - accuracy: 1.0000 - loss: 0.0068 - val_accuracy: 1.0000 - val_loss: 0.0018 - learning_rate: 2.5000e-04\n",
      "Epoch 35/50\n",
      "\u001b[1m41/41\u001b[0m \u001b[32m━━━━━━━━━━━━━━━━━━━━\u001b[0m\u001b[37m\u001b[0m \u001b[1m0s\u001b[0m 72ms/step - accuracy: 1.0000 - loss: 0.0091\n",
      "Epoch 35: val_loss did not improve from 0.00059\n",
      "\u001b[1m41/41\u001b[0m \u001b[32m━━━━━━━━━━━━━━━━━━━━\u001b[0m\u001b[37m\u001b[0m \u001b[1m3s\u001b[0m 81ms/step - accuracy: 1.0000 - loss: 0.0090 - val_accuracy: 0.9964 - val_loss: 0.0035 - learning_rate: 2.5000e-04\n",
      "Epoch 36/50\n",
      "\u001b[1m41/41\u001b[0m \u001b[32m━━━━━━━━━━━━━━━━━━━━\u001b[0m\u001b[37m\u001b[0m \u001b[1m0s\u001b[0m 50ms/step - accuracy: 0.9998 - loss: 0.0072\n",
      "Epoch 36: val_loss did not improve from 0.00059\n",
      "\n",
      "Epoch 36: ReduceLROnPlateau reducing learning rate to 0.0001250000059371814.\n",
      "\u001b[1m41/41\u001b[0m \u001b[32m━━━━━━━━━━━━━━━━━━━━\u001b[0m\u001b[37m\u001b[0m \u001b[1m4s\u001b[0m 60ms/step - accuracy: 0.9998 - loss: 0.0072 - val_accuracy: 0.9964 - val_loss: 0.0048 - learning_rate: 2.5000e-04\n",
      "Epoch 36: early stopping\n",
      "Restoring model weights from the end of the best epoch: 26.\n"
     ]
    }
   ],
   "source": [
    "history = model.fit(\n",
    "    X_train, y_train_onehot,\n",
    "    validation_data=(X_val, y_val_onehot),\n",
    "    epochs=50,\n",
    "    batch_size=32,\n",
    "    callbacks=[es, mc, reduce_lr],\n",
    "    verbose=1\n",
    ")"
   ]
  },
  {
   "cell_type": "code",
   "execution_count": 64,
   "id": "161932e1",
   "metadata": {},
   "outputs": [
    {
     "name": "stdout",
     "output_type": "stream",
     "text": [
      "\u001b[1m9/9\u001b[0m \u001b[32m━━━━━━━━━━━━━━━━━━━━\u001b[0m\u001b[37m\u001b[0m \u001b[1m0s\u001b[0m 31ms/step - accuracy: 1.0000 - loss: 3.8951e-04\n",
      "Test accuracy: 1.0000, Test loss: 0.0004\n"
     ]
    }
   ],
   "source": [
    "test_loss, test_acc = model.evaluate(X_test, y_test_onehot)\n",
    "print(f\"Test accuracy: {test_acc:.4f}, Test loss: {test_loss:.4f}\")\n"
   ]
  },
  {
   "cell_type": "code",
   "execution_count": 65,
   "id": "99170aef",
   "metadata": {},
   "outputs": [
    {
     "name": "stdout",
     "output_type": "stream",
     "text": [
      "\u001b[1m9/9\u001b[0m \u001b[32m━━━━━━━━━━━━━━━━━━━━\u001b[0m\u001b[37m\u001b[0m \u001b[1m0s\u001b[0m 22ms/step\n"
     ]
    },
    {
     "data": {
      "text/plain": [
       "<Figure size 800x800 with 0 Axes>"
      ]
     },
     "metadata": {},
     "output_type": "display_data"
    },
    {
     "data": {
      "image/png": "[encoded data removed]",
      "text/plain": [
       "<Figure size 640x480 with 2 Axes>"
      ]
     },
     "metadata": {},
     "output_type": "display_data"
    }
   ],
   "source": [
    "import matplotlib.pyplot as plt\n",
    "from sklearn.metrics import confusion_matrix, ConfusionMatrixDisplay\n",
    "\n",
    "# Dự đoán\n",
    "y_pred_probs = model.predict(X_test)        # shape: (num_test, num_classes)\n",
    "y_pred = np.argmax(y_pred_probs, axis=1)\n",
    "\n",
    "# Tính confusion matrix\n",
    "cm = confusion_matrix(y_test, y_pred, labels=range(num_classes))\n",
    "disp = ConfusionMatrixDisplay(confusion_matrix=cm, display_labels=gesture_labels)\n",
    "\n",
    "plt.figure(figsize=(8, 8))\n",
    "disp.plot(cmap='Blues', xticks_rotation=45)\n",
    "plt.title(\"Confusion Matrix Trên Tập Test\")\n",
    "plt.show()"
   ]
  },
  {
   "cell_type": "code",
   "execution_count": 66,
   "id": "d4688709",
   "metadata": {},
   "outputs": [],
   "source": [
    "model.save('model_tf3.keras')"
   ]
  },
  {
   "cell_type": "code",
   "execution_count": 67,
   "id": "9a457918",
   "metadata": {},
   "outputs": [],
   "source": [
    "np.save('mean.npy', mean)\n",
    "np.save('std.npy', std)"
   ]
  }
 ],
 "metadata": {
  "kernelspec": {
   "display_name": "base",
   "language": "python",
   "name": "python3"
  },
  "language_info": {
   "codemirror_mode": {
    "name": "ipython",
    "version": 3
   },
   "file_extension": ".py",
   "mimetype": "text/x-python",
   "name": "python",
   "nbconvert_exporter": "python",
   "pygments_lexer": "ipython3",
   "version": "3.11.7"
  }
 },
 "nbformat": 4,
 "nbformat_minor": 5
}
